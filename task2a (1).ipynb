{
 "cells": [
  {
   "cell_type": "code",
   "execution_count": 2,
   "id": "29e05e08-5774-4ccc-9a23-0bf256bd92c7",
   "metadata": {},
   "outputs": [
    {
     "data": {
      "text/plain": [
       "[5, 10, 15, 20]"
      ]
     },
     "execution_count": 2,
     "metadata": {},
     "output_type": "execute_result"
    }
   ],
   "source": [
    " # 5, 10, 15, 20 rəqəmlərindən ibarət “rəqəmlər” adlı list/vector yaradın\n",
    "reqemler=[5,10,15,20]\n",
    "reqemler"
   ]
  },
  {
   "cell_type": "code",
   "execution_count": 3,
   "id": "33f59364-ce30-4e92-be6e-8a437995e10e",
   "metadata": {},
   "outputs": [
    {
     "data": {
      "text/plain": [
       "4"
      ]
     },
     "execution_count": 3,
     "metadata": {},
     "output_type": "execute_result"
    }
   ],
   "source": [
    "# “rəqəmlər” listinin/vectorunun uzunluğunu tapın\n",
    "len(reqemler)"
   ]
  },
  {
   "cell_type": "code",
   "execution_count": 4,
   "id": "7427a451-c20d-46b5-bf35-87e5905baec7",
   "metadata": {},
   "outputs": [],
   "source": [
    "# “rəqəmlər” listinə/vectoruna 25 elementini əlavə edin\n",
    "a=reqemler.append(25)"
   ]
  },
  {
   "cell_type": "code",
   "execution_count": 6,
   "id": "fba6fafa-c200-4cff-a7ae-f8bfaa120e66",
   "metadata": {},
   "outputs": [],
   "source": [
    " # “rəqəmlər” listinin/vectorunun 2-ci indeksinə 12 elementini əlavə edin\n",
    "reqemler.insert(2,12)"
   ]
  },
  {
   "cell_type": "code",
   "execution_count": 7,
   "id": "cef13d09-f971-4310-b076-47488dff39e8",
   "metadata": {},
   "outputs": [
    {
     "data": {
      "text/plain": [
       "[5, 10, 12, 15, 20, 25]"
      ]
     },
     "execution_count": 7,
     "metadata": {},
     "output_type": "execute_result"
    }
   ],
   "source": [
    "reqemler"
   ]
  },
  {
   "cell_type": "code",
   "execution_count": 8,
   "id": "a1146cc3-74be-476f-b74c-b129226f08bc",
   "metadata": {},
   "outputs": [
    {
     "data": {
      "text/plain": [
       "[1, 2, 3, 4, 5, 6]"
      ]
     },
     "execution_count": 8,
     "metadata": {},
     "output_type": "execute_result"
    }
   ],
   "source": [
    " # 1, 2, 3 və 4, 5, 6 listlərini/vectorlarını birləşdirin\n",
    "a=[1,2,3]\n",
    "b=[4,5,6]\n",
    "a+b"
   ]
  },
  {
   "cell_type": "code",
   "execution_count": 9,
   "id": "5d56adf1-7e5d-4d93-b48d-fd8557648250",
   "metadata": {},
   "outputs": [],
   "source": [
    "a.extend(b)"
   ]
  },
  {
   "cell_type": "code",
   "execution_count": 10,
   "id": "276164e6-a348-4ad9-a83b-8cda3854a87d",
   "metadata": {},
   "outputs": [
    {
     "data": {
      "text/plain": [
       "[1, 2, 3, 4, 5, 6]"
      ]
     },
     "execution_count": 10,
     "metadata": {},
     "output_type": "execute_result"
    }
   ],
   "source": [
    "a"
   ]
  },
  {
   "cell_type": "code",
   "execution_count": 11,
   "id": "bb61de62-176b-4951-bd1d-22e6ae800657",
   "metadata": {},
   "outputs": [
    {
     "name": "stdout",
     "output_type": "stream",
     "text": [
      "12 15\n"
     ]
    }
   ],
   "source": [
    " # “rəqəmlər” listindən/vectorundan 2-ci və 3-cü elementləri seçin\n",
    "print(reqemler[2],reqemler[3])"
   ]
  },
  {
   "cell_type": "code",
   "execution_count": 13,
   "id": "edacf5ba-e08c-4666-abfe-6855622f9ef8",
   "metadata": {},
   "outputs": [],
   "source": [
    " # “rəqəmlər” listinin/vectorunun ilk elementini 50 ilə əvəz edin \n",
    "reqemler[0]=50"
   ]
  },
  {
   "cell_type": "code",
   "execution_count": 34,
   "id": "480b4ecf-6d30-4f64-b952-81445777388c",
   "metadata": {},
   "outputs": [
    {
     "data": {
      "text/plain": [
       "[50, 10, 12, 15, 20, 25]"
      ]
     },
     "execution_count": 34,
     "metadata": {},
     "output_type": "execute_result"
    }
   ],
   "source": [
    "reqemler"
   ]
  },
  {
   "cell_type": "code",
   "execution_count": 15,
   "id": "82b8f12f-68d9-4fc5-b466-63969d8c4c0d",
   "metadata": {},
   "outputs": [
    {
     "data": {
      "text/plain": [
       "False"
      ]
     },
     "execution_count": 15,
     "metadata": {},
     "output_type": "execute_result"
    }
   ],
   "source": [
    " # “rəqəmlər” listində/vectorunda 19 elementinin olub-olmadığını yoxlayın\n",
    "19 in reqemler"
   ]
  },
  {
   "cell_type": "code",
   "execution_count": 18,
   "id": "582cd7fa-9a64-418b-87d4-58fd8f74947f",
   "metadata": {},
   "outputs": [
    {
     "name": "stdout",
     "output_type": "stream",
     "text": [
      "2\n"
     ]
    }
   ],
   "source": [
    "# \"a\", \"b\", \"a\", \"c\" listində/vectorunda \"a\" elementinin neçə dəfə təkrarlandığını tapın\n",
    "d = [\"a\", \"b\", \"a\", \"c\"]\n",
    "say = 0\n",
    "for i in d:\n",
    "    if i == \"a\":\n",
    "        say = say + 1\n",
    "print(say)\n"
   ]
  },
  {
   "cell_type": "code",
   "execution_count": 26,
   "id": "577bd305-315e-40c3-a768-6ed759e86b63",
   "metadata": {},
   "outputs": [],
   "source": [
    "# \"x\", \"y\", \"x\", \"z\" listindən/vectorundan \"x\" elementlərini silin\n",
    "a=[\"x\", \"y\", \"x\", \"z\"]\n",
    "for i in a:\n",
    "    if i==\"x\":\n",
    "        a.remove(i)\n",
    "        "
   ]
  },
  {
   "cell_type": "code",
   "execution_count": 28,
   "id": "6e8c418d-dd2d-4f5c-aa16-652281043fdc",
   "metadata": {},
   "outputs": [
    {
     "data": {
      "text/plain": [
       "['y', 'z']"
      ]
     },
     "execution_count": 28,
     "metadata": {},
     "output_type": "execute_result"
    }
   ],
   "source": [
    "a"
   ]
  },
  {
   "cell_type": "code",
   "execution_count": 29,
   "id": "061643d7-67d0-435a-bc7b-2a4fdb4d1a81",
   "metadata": {},
   "outputs": [
    {
     "data": {
      "text/plain": [
       "[9, 7, 2, 1]"
      ]
     },
     "execution_count": 29,
     "metadata": {},
     "output_type": "execute_result"
    }
   ],
   "source": [
    "# 7, 2, 9, 1 listini/vectorunu azalan sırayla sıralayın\n",
    "a=[7,2,9,1]\n",
    "a.sort(reverse=True)\n",
    "a"
   ]
  },
  {
   "cell_type": "code",
   "execution_count": 30,
   "id": "4cf1fbd9-6e4b-4d19-96b3-24ec0a70fa2e",
   "metadata": {},
   "outputs": [],
   "source": [
    "# “rəqəmlər” listindən/vectorundan 10-dan böyük elementləri seçin\n",
    "a=[]\n",
    "for i in reqemler:\n",
    "    if i>10:\n",
    "        a.append(i)\n",
    "        "
   ]
  },
  {
   "cell_type": "code",
   "execution_count": 31,
   "id": "fee5cca1-988b-42fb-a61e-3cc46a1e64f2",
   "metadata": {},
   "outputs": [
    {
     "data": {
      "text/plain": [
       "[50, 12, 15, 20, 25]"
      ]
     },
     "execution_count": 31,
     "metadata": {},
     "output_type": "execute_result"
    }
   ],
   "source": [
    "a"
   ]
  },
  {
   "cell_type": "code",
   "execution_count": 35,
   "id": "72c6184c-48b6-4c13-b464-3d109dd0ffee",
   "metadata": {},
   "outputs": [
    {
     "data": {
      "text/plain": [
       "5"
      ]
     },
     "execution_count": 35,
     "metadata": {},
     "output_type": "execute_result"
    }
   ],
   "source": [
    "# “rəqəmlər” listindən/vectorundan 10-dan böyük elementləri seçin\n",
    "say=0\n",
    "for i in reqemler:\n",
    "    if i>10:\n",
    "        say=say+1\n",
    "say        "
   ]
  },
  {
   "cell_type": "code",
   "execution_count": null,
   "id": "f2fd56be-fbbd-4170-950f-6e498cf4221e",
   "metadata": {},
   "outputs": [],
   "source": []
  }
 ],
 "metadata": {
  "kernelspec": {
   "display_name": "Python 3 (ipykernel)",
   "language": "python",
   "name": "python3"
  },
  "language_info": {
   "codemirror_mode": {
    "name": "ipython",
    "version": 3
   },
   "file_extension": ".py",
   "mimetype": "text/x-python",
   "name": "python",
   "nbconvert_exporter": "python",
   "pygments_lexer": "ipython3",
   "version": "3.12.7"
  }
 },
 "nbformat": 4,
 "nbformat_minor": 5
}

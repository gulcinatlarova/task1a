{
 "cells": [
  {
   "cell_type": "code",
   "execution_count": 11,
   "id": "65ad767b-300b-4053-99f1-143f5783531b",
   "metadata": {},
   "outputs": [
    {
     "name": "stdout",
     "output_type": "stream",
     "text": [
      " uzunluq 11 ve ilk simvolu P\n"
     ]
    }
   ],
   "source": [
    "# s = \"Programming\" yaradın. Uzunluğunu və ilk simvolunu çap edin.\n",
    "s=\"Programming\"\n",
    "a=len(s)\n",
    "print(f\" uzunluq {a} ve ilk simvolu {s[0]}\")"
   ]
  },
  {
   "cell_type": "code",
   "execution_count": 13,
   "id": "00ca84e7-2595-4815-a2dc-e0fa799797ae",
   "metadata": {},
   "outputs": [
    {
     "data": {
      "text/plain": [
       "'Hello World'"
      ]
     },
     "execution_count": 13,
     "metadata": {},
     "output_type": "execute_result"
    }
   ],
   "source": [
    "# s1 = \"Hello\" və s2 = \"World\" yaradın. Onları boşluqla birləşdirin və nəticəni çap edin.\n",
    "s1=\"Hello\"\n",
    "s2=\"World\"\n",
    "netice=s1+\" \"+s2\n",
    "netice"
   ]
  },
  {
   "cell_type": "code",
   "execution_count": 14,
   "id": "09addb3d-600d-421c-aafd-2c1d796c71dd",
   "metadata": {},
   "outputs": [
    {
     "data": {
      "text/plain": [
       "'n'"
      ]
     },
     "execution_count": 14,
     "metadata": {},
     "output_type": "execute_result"
    }
   ],
   "source": [
    "# text = \"Python\" yaradın. Son simvolunu çap edin.\n",
    "text = \"Python\"\n",
    "text[-1]"
   ]
  },
  {
   "cell_type": "code",
   "execution_count": 15,
   "id": "67e95bb0-4b9d-428f-b83c-d909c18a3321",
   "metadata": {},
   "outputs": [
    {
     "data": {
      "text/plain": [
       "'Art'"
      ]
     },
     "execution_count": 15,
     "metadata": {},
     "output_type": "execute_result"
    }
   ],
   "source": [
    "# s = \"Artificial\" yaradın. \"Art\" hissəsini ilə çıxarın və çap edin.\n",
    "s = \"Artificial\"\n",
    "hisse=s[:3]\n",
    "hisse"
   ]
  },
  {
   "cell_type": "code",
   "execution_count": 21,
   "id": "b90cfe58-f917-4f4f-96b6-8e3361dd3118",
   "metadata": {},
   "outputs": [
    {
     "name": "stdout",
     "output_type": "stream",
     "text": [
      "edoC\n"
     ]
    }
   ],
   "source": [
    "# word = \"Code\" yaradın. Tərsinə çevirin və nəticəni çap edin.\n",
    "word = \"Code\"\n",
    "print(word[::-1])"
   ]
  },
  {
   "cell_type": "code",
   "execution_count": 23,
   "id": "5c9bb8cd-8a2c-4350-9b71-b46b993776db",
   "metadata": {},
   "outputs": [
    {
     "data": {
      "text/plain": [
       "'bdfh'"
      ]
     },
     "execution_count": 23,
     "metadata": {},
     "output_type": "execute_result"
    }
   ],
   "source": [
    "# s = \"abcdefgh\" yaradın. Hər ikinci simvolu alın və çap edin.\n",
    "s = \"abcdefgh\"\n",
    "s[1::2]"
   ]
  },
  {
   "cell_type": "code",
   "execution_count": null,
   "id": "77a9e5db-a39f-442f-919a-ec3e5c187941",
   "metadata": {},
   "outputs": [],
   "source": [
    "# text = \"data\" yaradın. Onu bir sətrlik kodla böyük hərflərə və kiçik hərflərə çevirib çap edin.\n"
   ]
  }
 ],
 "metadata": {
  "kernelspec": {
   "display_name": "Python 3 (ipykernel)",
   "language": "python",
   "name": "python3"
  },
  "language_info": {
   "codemirror_mode": {
    "name": "ipython",
    "version": 3
   },
   "file_extension": ".py",
   "mimetype": "text/x-python",
   "name": "python",
   "nbconvert_exporter": "python",
   "pygments_lexer": "ipython3",
   "version": "3.12.7"
  }
 },
 "nbformat": 4,
 "nbformat_minor": 5
}

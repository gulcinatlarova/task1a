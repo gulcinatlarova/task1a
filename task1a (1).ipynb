{
 "cells": [
  {
   "cell_type": "code",
   "execution_count": 3,
   "id": "13cc3871-dae2-436b-b8ba-2416f111047f",
   "metadata": {},
   "outputs": [
    {
     "data": {
      "text/plain": [
       "str"
      ]
     },
     "execution_count": 3,
     "metadata": {},
     "output_type": "execute_result"
    }
   ],
   "source": [
    " # 123 rəqəmini string/character ə çevirin və tipini yoxlayın.\n",
    "a=123\n",
    "b=str(a)\n",
    "type(b)"
   ]
  },
  {
   "cell_type": "code",
   "execution_count": 6,
   "id": "db6ebea4-48e7-4def-848d-5f8c142f60f3",
   "metadata": {},
   "outputs": [
    {
     "name": "stdin",
     "output_type": "stream",
     "text": [
      "eded daxil edin 19.99\n"
     ]
    },
    {
     "name": "stdout",
     "output_type": "stream",
     "text": [
      "19.99 ededinin tam hissesi 19-dir\n"
     ]
    }
   ],
   "source": [
    "# 19.99 dəyərini tam ədədə çevirin və nəticəni çap edin.\n",
    "a=float(input(\"eded daxil edin\"))\n",
    "b=int(a)\n",
    "print(f\"{a} ededinin tam hissesi {b}-dir\")"
   ]
  },
  {
   "cell_type": "code",
   "execution_count": 8,
   "id": "968c7dae-802d-4315-b997-7565a3845142",
   "metadata": {},
   "outputs": [
    {
     "name": "stdin",
     "output_type": "stream",
     "text": [
      "daxil edin 500\n"
     ]
    },
    {
     "name": "stdout",
     "output_type": "stream",
     "text": [
      "250.0\n"
     ]
    }
   ],
   "source": [
    "# \"500\" dəyərini numericə çevirin və 2-yə bölüb nəticəni çap edin.\n",
    "a=input(\"daxil edin\")\n",
    "b=int(a)\n",
    "print(b/2)"
   ]
  },
  {
   "cell_type": "code",
   "execution_count": 4,
   "id": "c5eb8bb0-fdaf-434b-9a43-0f86af012158",
   "metadata": {},
   "outputs": [
    {
     "name": "stdout",
     "output_type": "stream",
     "text": [
      "a<b\n"
     ]
    }
   ],
   "source": [
    " # a = 8 və b = 12 yaradın. a < b və a == b şərtlərini yoxlayın, nəticələri çap edin.\n",
    "a=8\n",
    "b=12\n",
    "if a<b:\n",
    "    print(\"a<b\")\n",
    "elif a==b:\n",
    "    print(\"a=b\")\n",
    "else:\n",
    "    print(\"a>b\")"
   ]
  },
  {
   "cell_type": "code",
   "execution_count": 7,
   "id": "a8779bd0-f243-45e9-b488-34ce8c1269d6",
   "metadata": {},
   "outputs": [
    {
     "name": "stdout",
     "output_type": "stream",
     "text": [
      "x ve y kicikdir z\n"
     ]
    }
   ],
   "source": [
    "# x = 5, y = 10, z = 15 yaradın. (x < y) and (y < z) şərtini yoxlayın və nəticəni çap edin.\n",
    "x=5\n",
    "y=10\n",
    "z=15\n",
    "if x<z:\n",
    "    if y<z:\n",
    "        print(\"x ve y kicikdir z\")\n",
    "else:\n",
    "    print(\"deyil\")"
   ]
  },
  {
   "cell_type": "code",
   "execution_count": 8,
   "id": "533e4fdd-1163-487b-961e-3f5cf5a48ab2",
   "metadata": {},
   "outputs": [
    {
     "name": "stdout",
     "output_type": "stream",
     "text": [
      "adi bolme 6.25,tam bolme 6,qaliq hisse 1\n"
     ]
    }
   ],
   "source": [
    " # 25-i 4-ə bölün. Tam bölmə, qalıq və adi bölmə nəticələrini çap edin.\n",
    "a=25/4\n",
    "b=25//4\n",
    "c=25%4\n",
    "print(f\"adi bolme {a},tam bolme {b},qaliq hisse {c}\")"
   ]
  },
  {
   "cell_type": "code",
   "execution_count": 11,
   "id": "0a9c165d-cf12-4fbe-9130-01ffa3e0d4a4",
   "metadata": {},
   "outputs": [
    {
     "data": {
      "text/plain": [
       "81"
      ]
     },
     "execution_count": 11,
     "metadata": {},
     "output_type": "execute_result"
    }
   ],
   "source": [
    "# 3-ü 4-cü dərəcəyə qaldırın və nəticəni çap edin.\n",
    "a=3**4\n",
    "a"
   ]
  },
  {
   "cell_type": "code",
   "execution_count": 13,
   "id": "0a51b615-6483-4121-aaf9-4de3807c1f0d",
   "metadata": {},
   "outputs": [
    {
     "data": {
      "text/plain": [
       "81"
      ]
     },
     "execution_count": 13,
     "metadata": {},
     "output_type": "execute_result"
    }
   ],
   "source": [
    "import math\n",
    "b=pow(3,4)\n",
    "b"
   ]
  },
  {
   "cell_type": "code",
   "execution_count": 14,
   "id": "9a380a6e-8744-4252-b08d-8fa5e004a32f",
   "metadata": {},
   "outputs": [
    {
     "name": "stdout",
     "output_type": "stream",
     "text": [
      "<class 'float'>\n"
     ]
    }
   ],
   "source": [
    "# qiymet = 75.5 yaradın. Onu tam ədədə çevirin və tipini yoxlayın.\n",
    "a=75.5\n",
    "print(type(float(a)))"
   ]
  },
  {
   "cell_type": "code",
   "execution_count": 6,
   "id": "838821bd-98fd-49ef-917d-5094ec3ddeb3",
   "metadata": {},
   "outputs": [
    {
     "name": "stdout",
     "output_type": "stream",
     "text": [
      "True\n",
      "True\n"
     ]
    }
   ],
   "source": [
    " # n = 20 yaradın. (n > 10) or (n < 5) və (n > 15) and (n < 25) şərtlərini yoxlayın, nəticələri çap edin.\n",
    "n=20\n",
    "print( (n > 10) or (n < 5) )\n",
    "print( (n > 15) and (n < 25))"
   ]
  },
  {
   "cell_type": "code",
   "execution_count": 2,
   "id": "2f0cbdb4-3da2-4c9c-92f5-3b7d158b17bc",
   "metadata": {},
   "outputs": [
    {
     "name": "stdin",
     "output_type": "stream",
     "text": [
      "daxil edin 42.8\n"
     ]
    },
    {
     "data": {
      "text/plain": [
       "str"
      ]
     },
     "execution_count": 2,
     "metadata": {},
     "output_type": "execute_result"
    }
   ],
   "source": [
    " # \"42.8\" dəyərini əvvəl float-a, sonra tam ədədə çevirin və hər addımda tipi yoxlayın.\n",
    "a=input(\"daxil edin\")\n",
    "type(a)"
   ]
  },
  {
   "cell_type": "code",
   "execution_count": 3,
   "id": "47339394-eeef-41e3-961c-5f982fc9044b",
   "metadata": {},
   "outputs": [
    {
     "data": {
      "text/plain": [
       "float"
      ]
     },
     "execution_count": 3,
     "metadata": {},
     "output_type": "execute_result"
    }
   ],
   "source": [
    "b=float(a)\n",
    "type(b)"
   ]
  },
  {
   "cell_type": "code",
   "execution_count": 4,
   "id": "bd39bb73-f3ee-4b38-84a1-ee71f3b573c5",
   "metadata": {},
   "outputs": [
    {
     "data": {
      "text/plain": [
       "int"
      ]
     },
     "execution_count": 4,
     "metadata": {},
     "output_type": "execute_result"
    }
   ],
   "source": [
    "c=int(b)\n",
    "type(c)"
   ]
  },
  {
   "cell_type": "code",
   "execution_count": null,
   "id": "dc4393f3-78ed-44c5-908d-014fc8e4f5d9",
   "metadata": {},
   "outputs": [],
   "source": []
  }
 ],
 "metadata": {
  "kernelspec": {
   "display_name": "Python 3 (ipykernel)",
   "language": "python",
   "name": "python3"
  },
  "language_info": {
   "codemirror_mode": {
    "name": "ipython",
    "version": 3
   },
   "file_extension": ".py",
   "mimetype": "text/x-python",
   "name": "python",
   "nbconvert_exporter": "python",
   "pygments_lexer": "ipython3",
   "version": "3.12.7"
  }
 },
 "nbformat": 4,
 "nbformat_minor": 5
}
